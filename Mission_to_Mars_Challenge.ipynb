{
 "cells": [
  {
   "cell_type": "code",
   "execution_count": 164,
   "id": "606116de",
   "metadata": {},
   "outputs": [],
   "source": [
    "# Import Splinter and BeautifulSoup\n",
    "from splinter import Browser\n",
    "from bs4 import BeautifulSoup as soup\n",
    "from webdriver_manager.chrome import ChromeDriverManager\n",
    "import pandas as pd\n",
    "import re"
   ]
  },
  {
   "cell_type": "code",
   "execution_count": 2,
   "id": "4d9f8a0b",
   "metadata": {},
   "outputs": [
    {
     "name": "stderr",
     "output_type": "stream",
     "text": [
      "\n",
      "\n",
      "====== WebDriver manager ======\n",
      "Current google-chrome version is 92.0.4515\n",
      "Get LATEST driver version for 92.0.4515\n",
      "Driver [C:\\Users\\lindgp1\\.wdm\\drivers\\chromedriver\\win32\\92.0.4515.107\\chromedriver.exe] found in cache\n"
     ]
    }
   ],
   "source": [
    "executable_path = {'executable_path': ChromeDriverManager().install()}\n",
    "browser = Browser('chrome', **executable_path, headless=False)"
   ]
  },
  {
   "cell_type": "markdown",
   "id": "d8c3a84b",
   "metadata": {},
   "source": [
    "### Visit the NASA Mars News Site"
   ]
  },
  {
   "cell_type": "code",
   "execution_count": null,
   "id": "2bfe7af7",
   "metadata": {},
   "outputs": [],
   "source": [
    "# Visit the mars nasa news site\n",
    "url = 'https://redplanetscience.com'\n",
    "browser.visit(url)\n",
    "# Optional delay for loading the page\n",
    "browser.is_element_present_by_css('div.list_text', wait_time=1)"
   ]
  },
  {
   "cell_type": "code",
   "execution_count": null,
   "id": "a16bf0d8",
   "metadata": {},
   "outputs": [],
   "source": [
    "# Convert the browser html to a soup object and then quit the browser\n",
    "html = browser.html\n",
    "news_soup = soup(html, 'html.parser')\n",
    "\n",
    "slide_elem = news_soup.select_one('div.list_text')"
   ]
  },
  {
   "cell_type": "code",
   "execution_count": null,
   "id": "c698f621",
   "metadata": {},
   "outputs": [],
   "source": [
    "# slide_elem"
   ]
  },
  {
   "cell_type": "code",
   "execution_count": null,
   "id": "08c31e1b",
   "metadata": {},
   "outputs": [],
   "source": [
    "slide_elem.find('div', class_='content_title')"
   ]
  },
  {
   "cell_type": "code",
   "execution_count": null,
   "id": "1eefee14",
   "metadata": {},
   "outputs": [],
   "source": [
    "# Use the parent element to find the first `a` tag and save it as `news_title`\n",
    "news_title = slide_elem.find('div', class_='content_title').get_text()\n",
    "news_title"
   ]
  },
  {
   "cell_type": "code",
   "execution_count": null,
   "id": "6218cd5a",
   "metadata": {},
   "outputs": [],
   "source": [
    "# Use the parent element to find the paragraph text\n",
    "news_p = slide_elem.find('div', class_='article_teaser_body').get_text()\n",
    "news_p"
   ]
  },
  {
   "cell_type": "markdown",
   "id": "083e7d10",
   "metadata": {},
   "source": [
    "### JPL Space Images Featured Images"
   ]
  },
  {
   "cell_type": "code",
   "execution_count": null,
   "id": "97fc759d",
   "metadata": {},
   "outputs": [],
   "source": [
    "# Visit URL\n",
    "url = 'https://spaceimages-mars.com'\n",
    "browser.visit(url)"
   ]
  },
  {
   "cell_type": "code",
   "execution_count": null,
   "id": "ecdab293",
   "metadata": {},
   "outputs": [],
   "source": [
    "# Find and click the full image button\n",
    "full_image_elem = browser.find_by_tag('button')[1]\n",
    "full_image_elem.click()"
   ]
  },
  {
   "cell_type": "code",
   "execution_count": null,
   "id": "0301b84b",
   "metadata": {},
   "outputs": [],
   "source": [
    "# Parse the resulting html with soup\n",
    "html = browser.html\n",
    "img_soup = soup(html, 'html.parser')\n",
    "img_soup"
   ]
  },
  {
   "cell_type": "code",
   "execution_count": null,
   "id": "02625fa6",
   "metadata": {},
   "outputs": [],
   "source": [
    "# Find the relative image url\n",
    "img_url_rel = img_soup.find('img', class_='fancybox-image').get('src')\n",
    "img_url_rel"
   ]
  },
  {
   "cell_type": "code",
   "execution_count": null,
   "id": "331dfc8e",
   "metadata": {},
   "outputs": [],
   "source": [
    "# Use the base URL to create an absolute URL\n",
    "img_url = f'https://spaceimages-mars.com/{img_url_rel}'\n",
    "img_url"
   ]
  },
  {
   "cell_type": "markdown",
   "id": "697429bc",
   "metadata": {},
   "source": [
    "### Mars Facts"
   ]
  },
  {
   "cell_type": "code",
   "execution_count": null,
   "id": "7e305b41",
   "metadata": {},
   "outputs": [],
   "source": [
    "df = pd.read_html('https://galaxyfacts-mars.com')[0]\n",
    "df.columns=['description', 'Mars', 'Earth']\n",
    "df.set_index('description', inplace=True)\n",
    "df"
   ]
  },
  {
   "cell_type": "code",
   "execution_count": null,
   "id": "3947effc",
   "metadata": {},
   "outputs": [],
   "source": [
    "df.to_html()"
   ]
  },
  {
   "cell_type": "markdown",
   "id": "42fbf8c6",
   "metadata": {},
   "source": [
    "# D1: Scrape High-Resolution Mars’ Hemisphere Images and Titles"
   ]
  },
  {
   "cell_type": "markdown",
   "id": "211e729e",
   "metadata": {},
   "source": [
    "### Hemispheres"
   ]
  },
  {
   "cell_type": "code",
   "execution_count": 215,
   "id": "5dba0d2a",
   "metadata": {},
   "outputs": [],
   "source": [
    "# Import Splinter and BeautifulSoup\n",
    "from splinter import Browser\n",
    "from bs4 import BeautifulSoup as soup\n",
    "from webdriver_manager.chrome import ChromeDriverManager\n",
    "import pandas as pd\n",
    "import re"
   ]
  },
  {
   "cell_type": "code",
   "execution_count": 216,
   "id": "eaf35f55",
   "metadata": {},
   "outputs": [
    {
     "name": "stderr",
     "output_type": "stream",
     "text": [
      "\n",
      "\n",
      "====== WebDriver manager ======\n",
      "Current google-chrome version is 92.0.4515\n",
      "Get LATEST driver version for 92.0.4515\n",
      "Driver [C:\\Users\\lindgp1\\.wdm\\drivers\\chromedriver\\win32\\92.0.4515.107\\chromedriver.exe] found in cache\n"
     ]
    }
   ],
   "source": [
    "executable_path = {'executable_path': ChromeDriverManager().install()}\n",
    "browser = Browser('chrome', **executable_path, headless=False)"
   ]
  },
  {
   "cell_type": "code",
   "execution_count": 217,
   "id": "216087a2",
   "metadata": {},
   "outputs": [],
   "source": [
    "# 1. Use browser to visit the URL \n",
    "url = 'https://marshemispheres.com/'\n",
    "browser.visit(url)"
   ]
  },
  {
   "cell_type": "code",
   "execution_count": 218,
   "id": "89474056",
   "metadata": {},
   "outputs": [],
   "source": [
    "# 3. Write code to retrieve the image urls and titles for each hemisphere.\n",
    "# Scrape page into Soup\n",
    "html = browser.html\n",
    "soup = soup(html, \"html.parser\")\n",
    "# print(soup.prettify())"
   ]
  },
  {
   "cell_type": "code",
   "execution_count": 219,
   "id": "c4bd8b93",
   "metadata": {},
   "outputs": [],
   "source": [
    "# 2. Create a list to hold the images and titles.\n",
    "hemisphere_image_urls = []"
   ]
  },
  {
   "cell_type": "code",
   "execution_count": 220,
   "id": "243ef061",
   "metadata": {},
   "outputs": [],
   "source": [
    "img_url_rel=soup.select(\"div.item [href]\")\n",
    "# img_url_rel"
   ]
  },
  {
   "cell_type": "code",
   "execution_count": 221,
   "id": "27b036e5",
   "metadata": {},
   "outputs": [
    {
     "data": {
      "text/plain": [
       "['cerberus.html',\n",
       " 'cerberus.html',\n",
       " 'schiaparelli.html',\n",
       " 'schiaparelli.html',\n",
       " 'syrtis.html',\n",
       " 'syrtis.html',\n",
       " 'valles.html',\n",
       " 'valles.html']"
      ]
     },
     "execution_count": 221,
     "metadata": {},
     "output_type": "execute_result"
    }
   ],
   "source": [
    "urls_all = [link['href'] for link in img_url_rel]\n",
    "urls_all"
   ]
  },
  {
   "cell_type": "code",
   "execution_count": 222,
   "id": "b680a628",
   "metadata": {},
   "outputs": [
    {
     "data": {
      "text/plain": [
       "['cerberus.html', 'schiaparelli.html', 'syrtis.html', 'valles.html']"
      ]
     },
     "execution_count": 222,
     "metadata": {},
     "output_type": "execute_result"
    }
   ],
   "source": [
    "urls = pd.unique(urls_all).tolist()\n",
    "urls"
   ]
  },
  {
   "cell_type": "code",
   "execution_count": 223,
   "id": "20a68d91",
   "metadata": {},
   "outputs": [],
   "source": [
    "# Use the base URL to create an absolute URL\n",
    "# img_url = f'https://marshemispheres.com/{img_url_rel}'\n",
    "\n",
    "# img_url"
   ]
  },
  {
   "cell_type": "code",
   "execution_count": 224,
   "id": "70e193ce",
   "metadata": {},
   "outputs": [
    {
     "name": "stdout",
     "output_type": "stream",
     "text": [
      "['https://marshemispheres.com/cerberus.html', 'https://marshemispheres.com/schiaparelli.html', 'https://marshemispheres.com/syrtis.html', 'https://marshemispheres.com/valles.html']\n"
     ]
    }
   ],
   "source": [
    "# Use the base URL to create an absolute URL\n",
    "image_url = []\n",
    "\n",
    "for i in urls:\n",
    "      image_url.append(f'https://marshemispheres.com/{i}')\n",
    "        \n",
    "print(image_url)"
   ]
  },
  {
   "cell_type": "code",
   "execution_count": 232,
   "id": "948119e8",
   "metadata": {},
   "outputs": [
    {
     "name": "stdout",
     "output_type": "stream",
     "text": [
      "['Cerberus Hemisphere Enhanced', 'Schiaparelli Hemisphere Enhanced', 'Syrtis Major Hemisphere Enhanced', 'Valles Marineris Hemisphere Enhanced']\n"
     ]
    }
   ],
   "source": [
    "ttls = soup.find_all('h3')\n",
    "image_title = []\n",
    "\n",
    "for titles in ttls:\n",
    "    image_title.append(titles.text)  \n",
    "\n",
    "image_title.remove('Back')\n",
    "print(image_title)"
   ]
  },
  {
   "cell_type": "code",
   "execution_count": 170,
   "id": "c4040c8e",
   "metadata": {},
   "outputs": [],
   "source": [
    "# Import Splinter and BeautifulSoup\n",
    "from splinter import Browser\n",
    "from bs4 import BeautifulSoup as soup\n",
    "from webdriver_manager.chrome import ChromeDriverManager\n",
    "import pandas as pd\n",
    "import re"
   ]
  },
  {
   "cell_type": "code",
   "execution_count": 171,
   "id": "66dca715",
   "metadata": {},
   "outputs": [
    {
     "name": "stderr",
     "output_type": "stream",
     "text": [
      "\n",
      "\n",
      "====== WebDriver manager ======\n",
      "Current google-chrome version is 92.0.4515\n",
      "Get LATEST driver version for 92.0.4515\n",
      "Driver [C:\\Users\\lindgp1\\.wdm\\drivers\\chromedriver\\win32\\92.0.4515.107\\chromedriver.exe] found in cache\n"
     ]
    }
   ],
   "source": [
    "executable_path = {'executable_path': ChromeDriverManager().install()}\n",
    "browser = Browser('chrome', **executable_path, headless=False)"
   ]
  },
  {
   "cell_type": "code",
   "execution_count": 207,
   "id": "4bcf8dec",
   "metadata": {},
   "outputs": [],
   "source": [
    "# # for url in image_url:\n",
    "# browser.visit(image_url[0])\n",
    "# html = browser.html\n",
    "\n",
    "# image_soup = soup(html, \"html.parser\")\n",
    "# # image_soup"
   ]
  },
  {
   "cell_type": "code",
   "execution_count": 209,
   "id": "b5fdcf75",
   "metadata": {},
   "outputs": [],
   "source": [
    "full_images = []\n",
    "\n",
    "for url in image_url:\n",
    "    browser.visit(url)\n",
    "    html = browser.html\n",
    "\n",
    "    image_soup = soup(html, \"html.parser\")\n",
    "\n",
    "    sample_images = image_soup.find('a',href=True,text='Sample').get('href')\n",
    "    \n",
    "    full_images.append(sample_images)"
   ]
  },
  {
   "cell_type": "code",
   "execution_count": 210,
   "id": "a5c9d8e8",
   "metadata": {},
   "outputs": [
    {
     "data": {
      "text/plain": [
       "['images/full.jpg',\n",
       " 'images/schiaparelli_enhanced-full.jpg',\n",
       " 'images/syrtis_major_enhanced-full.jpg',\n",
       " 'images/valles_marineris_enhanced-full.jpg']"
      ]
     },
     "execution_count": 210,
     "metadata": {},
     "output_type": "execute_result"
    }
   ],
   "source": [
    "full_images"
   ]
  },
  {
   "cell_type": "code",
   "execution_count": 204,
   "id": "edafb25a",
   "metadata": {},
   "outputs": [],
   "source": [
    "# browser.back()"
   ]
  },
  {
   "cell_type": "code",
   "execution_count": null,
   "id": "edfe4189",
   "metadata": {},
   "outputs": [],
   "source": [
    "# 4. Print the list that holds the dictionary of each image url and title.\n",
    "hemisphere_image_urls"
   ]
  },
  {
   "cell_type": "code",
   "execution_count": 213,
   "id": "cb094320",
   "metadata": {},
   "outputs": [
    {
     "data": {
      "text/plain": [
       "['https://marshemispheres.com/images/full.jpg',\n",
       " 'https://marshemispheres.com/images/schiaparelli_enhanced-full.jpg',\n",
       " 'https://marshemispheres.com/images/syrtis_major_enhanced-full.jpg',\n",
       " 'https://marshemispheres.com/images/valles_marineris_enhanced-full.jpg']"
      ]
     },
     "execution_count": 213,
     "metadata": {},
     "output_type": "execute_result"
    }
   ],
   "source": [
    "full_images_urls = []\n",
    "\n",
    "for x in full_images:\n",
    "    x1 = f'https://marshemispheres.com/{x}'\n",
    "    full_images_urls.append(x1)\n",
    "    \n",
    "full_images_urls"
   ]
  },
  {
   "cell_type": "code",
   "execution_count": null,
   "id": "ea9c6797",
   "metadata": {},
   "outputs": [],
   "source": []
  },
  {
   "cell_type": "code",
   "execution_count": null,
   "id": "e4cb4313",
   "metadata": {},
   "outputs": [],
   "source": []
  },
  {
   "cell_type": "code",
   "execution_count": null,
   "id": "78d050ad",
   "metadata": {},
   "outputs": [],
   "source": [
    "#Final answers\n",
    "\n",
    "# [{'img_url': 'https://marshemispheres.com/images/full.jpg',\n",
    "#   'title': 'Cerberus Hemisphere Enhanced'},\n",
    "#  {'img_url': 'https://marshemispheres.com/images/schiaparelli_enhanced-full.jpg',\n",
    "#   'title': 'Schiaparelli Hemisphere Enhanced'},\n",
    "#  {'img_url': 'https://marshemispheres.com/images/syrtis_major_enhanced-full.jpg',\n",
    "#   'title': 'Syrtis Major Hemisphere Enhanced'},\n",
    "#  {'img_url': 'https://marshemispheres.com/images/valles_marineris_enhanced-full.jpg',\n",
    "#   'title': 'Valles Marineris Hemisphere Enhanced'}]"
   ]
  },
  {
   "cell_type": "code",
   "execution_count": null,
   "id": "9142a540",
   "metadata": {},
   "outputs": [],
   "source": [
    "# 5. Quit the browser\n",
    "browser.quit()"
   ]
  }
 ],
 "metadata": {
  "kernelspec": {
   "display_name": "Python 3",
   "language": "python",
   "name": "python3"
  },
  "language_info": {
   "codemirror_mode": {
    "name": "ipython",
    "version": 3
   },
   "file_extension": ".py",
   "mimetype": "text/x-python",
   "name": "python",
   "nbconvert_exporter": "python",
   "pygments_lexer": "ipython3",
   "version": "3.7.10"
  }
 },
 "nbformat": 4,
 "nbformat_minor": 5
}
